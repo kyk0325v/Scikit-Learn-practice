{
 "cells": [
  {
   "cell_type": "markdown",
   "metadata": {
    "id": "kv1mpVJKTUxW"
   },
   "source": [
    "# 최소제곱법 (Least Ordinary Squares)"
   ]
  },
  {
   "cell_type": "markdown",
   "metadata": {
    "id": "0PKvBhsFTUxX"
   },
   "source": [
    "최소제곱법, 또는 최소자승법, 최소제곱근사법, 최소자승근사법(method of least squares, least squares approximation)은 **어떤 계의 해방정식을 근사적으로 구하는 방법**으로, 근사적으로 구하려는 해와 **실제 해의 오차의 제곱의 합이 최소가 되는 해**를 구하는 방법입니다."
   ]
  },
  {
   "cell_type": "code",
   "execution_count": null,
   "metadata": {},
   "outputs": [],
   "source": [
    "import warnings\n",
    "\n",
    "# 경고 메시지 출력 표기 생략\n",
    "warnings.filterwarnings('ignore')"
   ]
  },
  {
   "cell_type": "markdown",
   "metadata": {},
   "source": [
    "## 최소제곱법 공식유도"
   ]
  },
  {
   "cell_type": "code",
   "execution_count": null,
   "metadata": {},
   "outputs": [],
   "source": [
    "from IPython.display import YouTubeVideo\n",
    "\n",
    "YouTubeVideo('-oBmMED_5rI', width=480)"
   ]
  },
  {
   "cell_type": "markdown",
   "metadata": {
    "id": "YIB3fq3dTUxX"
   },
   "source": [
    "**한계**\n",
    "\n",
    "- 노이즈(outlier)에 취약합니다.\n",
    "- 특징 변수와 샘플 건수에 비례해서 계산 비용이 높습니다."
   ]
  },
  {
   "cell_type": "markdown",
   "metadata": {
    "id": "6ZRT7emRUtAR"
   },
   "source": [
    "**RSS(Residual Sum of Square)** 공식\n",
    "\n",
    "실제 값(y)과 가설($\\hat{y}$)에 의한 예측 값의 차이가 가장 작은 계수 계산\n",
    "\n",
    "선형함수: \n",
    "\n",
    "$y = wx + b$일때,\n",
    "\n",
    "- $\\Large w = \\Large\\frac{\\sum(x-\\bar{x})(y-\\bar{y})}{\\sum(x-\\bar{x})^{2}}$\n",
    "\n",
    "- $\\Large b = \\Large\\bar{y} - w\\bar{x}$"
   ]
  },
  {
   "cell_type": "markdown",
   "metadata": {
    "id": "YwFLwLcsTUxY"
   },
   "source": [
    "## 샘플 데이터를 생성합니다."
   ]
  },
  {
   "cell_type": "code",
   "execution_count": null,
   "metadata": {
    "id": "UkaEB3WJTkId"
   },
   "outputs": [],
   "source": [
    "import numpy as np\n",
    "import matplotlib.pyplot as plt\n",
    "\n",
    "# 랜덤시드 설정\n",
    "np.random.seed(123)\n",
    "\n",
    "# 50개의 X를 생성합니다.\n",
    "x = np.arange(50)\n",
    "\n",
    "# w=기울기, b=절편\n",
    "w = 0.3\n",
    "b = 0.8\n",
    "\n",
    "# 선형회귀 식을 작성합니다. y 값을 산출합니다.\n",
    "y = w * x + b"
   ]
  },
  {
   "cell_type": "markdown",
   "metadata": {
    "id": "gkqK7xSJTUxb"
   },
   "source": [
    "위의 수식에 근거하여 y 데이터 생성시 일직선으로 표현되는 단순한 선형함수가 완성되므로, **약간의 노이즈를 추가**합니다."
   ]
  },
  {
   "cell_type": "code",
   "execution_count": null,
   "metadata": {
    "id": "sPo_9Ck-ULPm"
   },
   "outputs": [],
   "source": [
    "# 노이즈를 랜덤하게 생성합니다.\n",
    "noise = np.random.uniform(-1.25, 1.25, size=y.shape)\n",
    "\n",
    "# y 값에 노이즈를 추가합니다.\n",
    "yy = y + noise"
   ]
  },
  {
   "cell_type": "markdown",
   "metadata": {},
   "source": [
    "생성한 샘플 데이터를 시각화합니다."
   ]
  },
  {
   "cell_type": "code",
   "execution_count": null,
   "metadata": {
    "colab": {
     "base_uri": "https://localhost:8080/",
     "height": 446
    },
    "id": "8EDh4yinUp-C",
    "outputId": "9526d18a-eab8-46ef-cb19-420adc12a5a6"
   },
   "outputs": [],
   "source": [
    "plt.figure(figsize=(10, 7))\n",
    "plt.plot(x, y, color='r', label=f'y = {w}x + {b}')\n",
    "plt.scatter(x, yy, label='data')\n",
    "plt.legend(fontsize=15)\n",
    "plt.show()"
   ]
  },
  {
   "cell_type": "markdown",
   "metadata": {
    "id": "N9ScsKovZvdo"
   },
   "source": [
    "## 샘플 데이터 생성 코드를 함수로 만들기"
   ]
  },
  {
   "cell_type": "code",
   "execution_count": null,
   "metadata": {
    "id": "Uqz8eppFYogY"
   },
   "outputs": [],
   "source": [
    "def make_linear(w=0.5, b=0.8, size=50, noise=1.0):\n",
    "    x = np.arange(size)\n",
    "    y = w * x + b\n",
    "    noise = np.random.uniform(-abs(noise), abs(noise), size=y.shape)\n",
    "    yy = y + noise\n",
    "    plt.figure(figsize=(10, 7))\n",
    "    plt.plot(x, y, color='r', label=f'y = {w}x + {b}')\n",
    "    plt.scatter(x, yy, label='data')\n",
    "    plt.legend(fontsize=15)\n",
    "    plt.show()\n",
    "    print(f'w: {w}, b: {b}')\n",
    "    return x, yy"
   ]
  },
  {
   "cell_type": "code",
   "execution_count": null,
   "metadata": {
    "colab": {
     "base_uri": "https://localhost:8080/",
     "height": 465
    },
    "id": "xE6SpxFOZKYL",
    "outputId": "f0b6fe0d-0afa-44ef-aa52-45dc62aea634"
   },
   "outputs": [],
   "source": [
    "x, y = make_linear(size=100, w=0.3, b=0.8, noise=0.5)"
   ]
  },
  {
   "cell_type": "markdown",
   "metadata": {
    "id": "ll9uXNLcTUxn"
   },
   "source": [
    "## Python 코드로 구현"
   ]
  },
  {
   "cell_type": "markdown",
   "metadata": {
    "id": "7Cv4evv4TUxn"
   },
   "source": [
    "### 최소제곱법 (Least Square) 공식\n",
    "\n",
    "**RSS(Residual Sum of Square)**\n",
    "\n",
    "실제 값(y)과 가설($\\hat{y}$)에 의한 예측 값의 차이가 가장 작은 계수 계산\n",
    "\n",
    "선형함수: \n",
    "\n",
    "$\\Large y = wx + b$일때,\n",
    "\n",
    "- $\\Large w = \\Large\\frac{\\sum(x-\\bar{x})(y-\\bar{y})}{\\sum(x-\\bar{x})^{2}}$\n",
    "\n",
    "- $\\Large b = \\Large\\bar{y} - w\\bar{x}$"
   ]
  },
  {
   "cell_type": "markdown",
   "metadata": {
    "id": "_12CB3vBV7rG"
   },
   "source": [
    "- `x_bar` 변수에는 x에 대한 평균을 구합니다.\n",
    "- `y_bar` 변수에는 y에 대한 평균을 구합니다."
   ]
  },
  {
   "cell_type": "code",
   "execution_count": null,
   "metadata": {
    "id": "AF1T-hqAXfPR"
   },
   "outputs": [
    {
     "name": "stdout",
     "output_type": "stream",
     "text": []
    }
   ],
   "source": [
    "# 코드를 입력해 주세요\n",
    "x_bar = \n",
    "y_bar = \n",
    "\n",
    "print(f'x_bar: {x_bar}, y_bar: {y_bar}')"
   ]
  },
  {
   "cell_type": "markdown",
   "metadata": {},
   "source": [
    "<p><strong>[출력 결과]</strong></p><pre>x_bar: 49.5, y_bar: 15.660657927243854\n",
    "</pre>"
   ]
  },
  {
   "cell_type": "markdown",
   "metadata": {
    "id": "gz6LaMCMX5I5"
   },
   "source": [
    "### w의 계수 값 찾기"
   ]
  },
  {
   "cell_type": "markdown",
   "metadata": {
    "id": "qsdyd_myTUxq"
   },
   "source": [
    "$\\Large w = \\Large\\frac{\\sum(x-\\bar{x})(y-\\bar{y})}{\\sum(x-\\bar{x})^{2}}$"
   ]
  },
  {
   "cell_type": "markdown",
   "metadata": {},
   "source": [
    "w를 계산하여 `calcaulated_weight`에 대입 합니다."
   ]
  },
  {
   "cell_type": "code",
   "execution_count": null,
   "metadata": {
    "colab": {
     "base_uri": "https://localhost:8080/",
     "height": 35
    },
    "id": "r2dml356XnfU",
    "outputId": "c2db0445-33c8-43e9-97e3-755e24d27c3f"
   },
   "outputs": [],
   "source": [
    "# 코드를 입력해 주세요\n",
    "calculated_weight = "
   ]
  },
  {
   "cell_type": "code",
   "execution_count": null,
   "metadata": {
    "colab": {
     "base_uri": "https://localhost:8080/",
     "height": 35
    },
    "id": "r2dml356XnfU",
    "outputId": "c2db0445-33c8-43e9-97e3-755e24d27c3f"
   },
   "outputs": [
    {
     "name": "stdout",
     "output_type": "stream",
     "text": []
    }
   ],
   "source": [
    "# 코드검증\n",
    "print('w: {:.2f}'.format(calculated_weight))"
   ]
  },
  {
   "cell_type": "markdown",
   "metadata": {},
   "source": [
    "<p><strong>[출력 결과]</strong></p><pre>w: 0.30\n",
    "</pre>"
   ]
  },
  {
   "cell_type": "markdown",
   "metadata": {
    "id": "1IzCd3FsX1sN"
   },
   "source": [
    "### b의 계수 값 구현\n"
   ]
  },
  {
   "cell_type": "markdown",
   "metadata": {
    "id": "O12zuIw_TUxs"
   },
   "source": [
    "$\\Large b = \\Large \\bar{y} - w\\bar{x}$"
   ]
  },
  {
   "cell_type": "markdown",
   "metadata": {},
   "source": [
    "`calculated_bias` 변수 생성 후 계산된 결과를 대입하세요"
   ]
  },
  {
   "cell_type": "code",
   "execution_count": null,
   "metadata": {
    "id": "GFi7OtN5YLOk"
   },
   "outputs": [],
   "source": [
    "# 코드를 입력해 주세요\n",
    "calculated_bias = "
   ]
  },
  {
   "cell_type": "code",
   "execution_count": null,
   "metadata": {
    "colab": {
     "base_uri": "https://localhost:8080/",
     "height": 35
    },
    "id": "VxHgbEwgYTb2",
    "outputId": "d26d0fc0-24db-46e5-9559-4b89804c33d4"
   },
   "outputs": [
    {
     "name": "stdout",
     "output_type": "stream",
     "text": []
    }
   ],
   "source": [
    "# 코드검증\n",
    "print('b: {:.2f}'.format(calculated_bias))"
   ]
  },
  {
   "cell_type": "markdown",
   "metadata": {},
   "source": [
    "<p><strong>[출력 결과]</strong></p><pre>b: 0.79\n",
    "</pre>"
   ]
  },
  {
   "cell_type": "code",
   "execution_count": null,
   "metadata": {
    "id": "TpcbujUnQrQf",
    "outputId": "703cb15e-5ea2-4dc5-8a41-a17050dc10e1"
   },
   "outputs": [],
   "source": [
    "# 최종 결과\n",
    "print('w: {:.2f}, b: {:.2f}'.format(calculated_weight, calculated_bias))"
   ]
  },
  {
   "cell_type": "markdown",
   "metadata": {
    "id": "Ap5iS59LYZbP"
   },
   "source": [
    "### 노이즈 값을 증가 시켰을 때"
   ]
  },
  {
   "cell_type": "markdown",
   "metadata": {
    "id": "y6u6xnk3TUxz"
   },
   "source": [
    "최소제곱법은 **노이즈에 취약하다는 단점**이 있습니다.\n",
    "\n",
    "이를 직접 눈으로 확인해 보도록 하겠습니다."
   ]
  },
  {
   "cell_type": "code",
   "execution_count": null,
   "metadata": {
    "colab": {
     "base_uri": "https://localhost:8080/",
     "height": 465
    },
    "id": "vXaW9G2YQqA7",
    "outputId": "9cc4178d-ed79-4506-f833-409c0ec4d222"
   },
   "outputs": [],
   "source": [
    "x, y = make_linear(size=100, w=0.3, b=0.8, noise=0.5)\n",
    "\n",
    "# 임의로 2개의 outlier를 추가해 보도록 하겠습니다.\n",
    "y[5]=20\n",
    "y[10]=20\n",
    "\n",
    "plt.figure(figsize=(10, 7))\n",
    "plt.scatter(x, y)\n",
    "plt.show()"
   ]
  },
  {
   "cell_type": "code",
   "execution_count": null,
   "metadata": {},
   "outputs": [
    {
     "name": "stdout",
     "output_type": "stream",
     "text": []
    }
   ],
   "source": [
    "# 코드입력\n",
    "x_bar = x.mean()\n",
    "y_bar = y.mean()\n",
    "\n",
    "calculated_weight = ((x - x_bar) * (y - y_bar)).sum() / ((x - x_bar)**2).sum()\n",
    "calculated_bias = y_bar - calculated_weight * x_bar\n",
    "\n",
    "# 최종 결과\n",
    "print('w: {:.2f}, b: {:.2f}'.format(calculated_weight, calculated_bias))"
   ]
  },
  {
   "cell_type": "markdown",
   "metadata": {},
   "source": [
    "<p><strong>[출력 결과]</strong></p><pre>w: 0.28, b: 2.00\n",
    "</pre>"
   ]
  },
  {
   "cell_type": "markdown",
   "metadata": {},
   "source": [
    "## Linear Regression 데모"
   ]
  },
  {
   "cell_type": "markdown",
   "metadata": {},
   "source": [
    "[Linear Regression 데모](https://www.geogebra.org/m/AuRrgqNV)"
   ]
  },
  {
   "cell_type": "markdown",
   "metadata": {
    "id": "f7GRk7FOTUx3"
   },
   "source": [
    "## 최소제곱법 (OLS)를 활용한 LinearRegression "
   ]
  },
  {
   "cell_type": "markdown",
   "metadata": {
    "id": "ziL2vkohTUx4"
   },
   "source": [
    "scikit-learn 패키지의 `LinearRegression`이 바로 최소 제곱 추정 방식으로 회귀 예측 알고리즘 입니다."
   ]
  },
  {
   "cell_type": "markdown",
   "metadata": {
    "id": "AgR8md3jTUx4"
   },
   "source": [
    "[LinearRegression 도큐먼트](https://scikit-learn.org/stable/modules/generated/sklearn.linear_model.LinearRegression.html)"
   ]
  },
  {
   "cell_type": "code",
   "execution_count": null,
   "metadata": {
    "scrolled": false
   },
   "outputs": [],
   "source": [
    "# 샘플 데이터셋 생성\n",
    "x, y = make_linear(size=100, w=0.7, b=0.2, noise=0.5)"
   ]
  },
  {
   "cell_type": "code",
   "execution_count": null,
   "metadata": {
    "id": "m1xZ37cDTUx4"
   },
   "outputs": [],
   "source": [
    "from sklearn.linear_model import LinearRegression"
   ]
  },
  {
   "cell_type": "code",
   "execution_count": null,
   "metadata": {
    "id": "bEXP-OX1TUx6"
   },
   "outputs": [],
   "source": [
    "# LinearRegression 생성\n",
    "model = LinearRegression()"
   ]
  },
  {
   "cell_type": "code",
   "execution_count": null,
   "metadata": {
    "id": "U-63uNxhTUx7",
    "outputId": "9bf28767-a99b-46c1-eef3-e907f278fd87"
   },
   "outputs": [],
   "source": [
    "# 모델 훈련\n",
    "model.fit(x.reshape(-1, 1), y)"
   ]
  },
  {
   "cell_type": "code",
   "execution_count": null,
   "metadata": {
    "id": "4tG8JxOtTUx9",
    "outputId": "d33484ac-731e-48ef-bbab-002cfccdb7ee"
   },
   "outputs": [],
   "source": [
    "# 회귀 계수 확인\n",
    "print('w: {:.2f}, b: {:.2f}'.format(model.coef_[0], model.intercept_))"
   ]
  }
 ],
 "metadata": {
  "colab": {
   "collapsed_sections": [],
   "name": "01-최소제곱법-(OrdinaryLeastSquares)-(실습)",
   "provenance": []
  },
  "kernelspec": {
   "display_name": "Python 3 (ipykernel)",
   "language": "python",
   "name": "python3"
  },
  "language_info": {
   "codemirror_mode": {
    "name": "ipython",
    "version": 3
   },
   "file_extension": ".py",
   "mimetype": "text/x-python",
   "name": "python",
   "nbconvert_exporter": "python",
   "pygments_lexer": "ipython3",
   "version": "3.7.10"
  }
 },
 "nbformat": 4,
 "nbformat_minor": 1
}
